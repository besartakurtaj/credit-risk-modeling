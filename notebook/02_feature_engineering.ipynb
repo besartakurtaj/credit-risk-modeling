{
 "cells": [
  {
   "cell_type": "code",
   "execution_count": null,
   "id": "f54f532c",
   "metadata": {},
   "outputs": [],
   "source": [
    "\"\"\"\n",
    "02_feature_engineering.py\n",
    "\n",
    "This script generates new features for the credit risk model, including loan-to-income ratios (LTI),\n",
    "debt-to-income ratios (DTI), and macroeconomic rolling averages. It merges loan and macroeconomic data\n",
    "and prepares the dataset for modeling.\n",
    "\"\"\"\n"
   ]
  },
  {
   "cell_type": "code",
   "execution_count": 11,
   "id": "83e015ae",
   "metadata": {},
   "outputs": [],
   "source": [
    "import pandas as pd\n",
    "\n",
    "loan_df = pd.read_csv('../data/cleaned_loan_data.csv', parse_dates=['OriginationDate', 'DefaultDate'])\n",
    "macro_df = pd.read_csv('../data/cleaned_macro_data.csv', parse_dates=['Date'])\n"
   ]
  },
  {
   "cell_type": "code",
   "execution_count": 12,
   "id": "c409bc60",
   "metadata": {},
   "outputs": [],
   "source": [
    "# Debt-to-Income (DTI) ratio\n",
    "loan_df['DTI'] = loan_df['LoanAmount'] / loan_df['Income']\n",
    "\n",
    "# Loan-to-Income (LTI)\n",
    "loan_df['LTI'] = loan_df['LoanAmount'] / loan_df['Income']\n",
    "\n",
    "# Age bucket\n",
    "loan_df['AgeGroup'] = pd.cut(\n",
    "    loan_df['CustomerAge'],\n",
    "    bins=[20, 30, 40, 50, 60, 70],\n",
    "    labels=['20s', '30s', '40s', '50s', '60s']\n",
    ")\n",
    "\n",
    "# Time to Default (in months), only for defaulted loans\n",
    "loan_df['TimeToDefaultMonths'] = (\n",
    "    (loan_df['DefaultDate'] - loan_df['OriginationDate']) / pd.Timedelta(days=30)\n",
    ").round().fillna(0)\n"
   ]
  },
  {
   "cell_type": "code",
   "execution_count": 13,
   "id": "0cfccffa",
   "metadata": {},
   "outputs": [],
   "source": [
    "# Add month to both datasets\n",
    "loan_df['OriginationMonth'] = loan_df['OriginationDate'].dt.to_period('M').dt.to_timestamp()\n",
    "macro_df['Month'] = macro_df['Date'].dt.to_period('M').dt.to_timestamp()\n",
    "\n",
    "# Merge\n",
    "loan_df = loan_df.merge(\n",
    "    macro_df.rename(columns={\"Date\": \"MacroDate\"}),\n",
    "    left_on='OriginationMonth',\n",
    "    right_on='Month',\n",
    "    how='left'\n",
    ")\n",
    "\n",
    "loan_df.drop(columns=['Month', 'MacroDate'], inplace=True)\n"
   ]
  },
  {
   "cell_type": "code",
   "execution_count": null,
   "id": "822e4aba",
   "metadata": {
    "scrolled": true
   },
   "outputs": [
    {
     "name": "stdout",
     "output_type": "stream",
     "text": [
      "Series([], Name: count, dtype: int64)\n",
      "Series([], Name: count, dtype: int64)\n",
      "Series([], Name: count, dtype: int64)\n"
     ]
    }
   ],
   "source": [
    "\n",
    "\n",
    "macro_df.set_index('Month', inplace=True)\n",
    "\n",
    "# Select numeric columns\n",
    "numeric_cols = macro_df.select_dtypes(include='number').columns\n",
    "\n",
    "# Calculate rolling mean on numeric columns\n",
    "rolling_macro_numeric = macro_df[numeric_cols].rolling(window=3).mean()\n",
    "\n",
    "# Reset index to bring 'Month' back as a column\n",
    "rolling_macro = rolling_macro_numeric.reset_index()\n",
    "\n",
    "# Rename columns for clarity\n",
    "rolling_macro.columns = ['Month', 'GDP_Growth_3MAvg', 'Unemployment_3MAvg', 'Inflation_3MAvg']\n",
    "\n",
    "# Merge with loan_df on OriginationMonth and Month\n",
    "loan_df = loan_df.merge(\n",
    "    rolling_macro,\n",
    "    left_on='OriginationMonth',\n",
    "    right_on='Month',\n",
    "    how='left'\n",
    ")\n",
    "\n",
    "loan_df.drop(columns=['Month'], inplace=True)\n"
   ]
  },
  {
   "cell_type": "code",
   "execution_count": 15,
   "id": "76db2ab1",
   "metadata": {},
   "outputs": [],
   "source": [
    "loan_df.to_csv('../data/engineered_loan_data.csv', index=False)\n"
   ]
  },
  {
   "cell_type": "code",
   "execution_count": null,
   "id": "dd15dadd-f94a-4bd5-afbb-4503e60f292e",
   "metadata": {},
   "outputs": [],
   "source": []
  }
 ],
 "metadata": {
  "kernelspec": {
   "display_name": "Python 3 (ipykernel)",
   "language": "python",
   "name": "python3"
  },
  "language_info": {
   "codemirror_mode": {
    "name": "ipython",
    "version": 3
   },
   "file_extension": ".py",
   "mimetype": "text/x-python",
   "name": "python",
   "nbconvert_exporter": "python",
   "pygments_lexer": "ipython3",
   "version": "3.13.3"
  }
 },
 "nbformat": 4,
 "nbformat_minor": 5
}
