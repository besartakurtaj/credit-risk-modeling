{
 "cells": [
  {
   "cell_type": "code",
   "execution_count": null,
   "id": "4b9f9c80",
   "metadata": {},
   "outputs": [],
   "source": [
    "\"\"\"\n",
    "04_ECL_calculation.py\n",
    "\n",
    "Calculates Expected Credit Loss (ECL) based on Probability of Default (PD), Exposure at Default (EAD),\n",
    "and Loss Given Default (LGD). Also analyzes ECL distribution by credit score band.\n",
    "\"\"\"\n"
   ]
  },
  {
   "cell_type": "code",
   "execution_count": 5,
   "id": "04a74f9a",
   "metadata": {},
   "outputs": [],
   "source": [
    "import pandas as pd\n",
    "\n",
    "df = pd.read_csv('../data/model_outputs.csv', parse_dates=['OriginationDate', 'DefaultDate'])\n"
   ]
  },
  {
   "cell_type": "code",
   "execution_count": 6,
   "id": "bb23eb0e",
   "metadata": {},
   "outputs": [
    {
     "name": "stdout",
     "output_type": "stream",
     "text": [
      "Index(['LoanID', 'CustomerAge', 'Income', 'LoanAmount', 'InterestRate',\n",
      "       'TermMonths', 'CreditScore', 'OriginationDate', 'Defaulted',\n",
      "       'DefaultDate', 'DTI', 'LTI', 'AgeGroup', 'TimeToDefaultMonths',\n",
      "       'OriginationMonth', 'GDP_Growth', 'Unemployment_Rate', 'Inflation_Rate',\n",
      "       'GDP_Growth_3MAvg', 'Unemployment_3MAvg', 'Inflation_3MAvg', 'PD',\n",
      "       'LGD', 'EAD'],\n",
      "      dtype='object')\n"
     ]
    }
   ],
   "source": [
    "print(df.columns)\n",
    "\n",
    "\n",
    "df['ECL'] = df['PD'] * df['LGD'] * df['EAD']\n"
   ]
  },
  {
   "cell_type": "code",
   "execution_count": 7,
   "id": "476656e8",
   "metadata": {},
   "outputs": [
    {
     "name": "stdout",
     "output_type": "stream",
     "text": [
      "Total Expected Credit Loss: €7,574,342.61\n"
     ]
    }
   ],
   "source": [
    "total_ecl = df['ECL'].sum()\n",
    "print(f\"Total Expected Credit Loss: €{total_ecl:,.2f}\")\n"
   ]
  },
  {
   "cell_type": "code",
   "execution_count": 9,
   "id": "f8843e38",
   "metadata": {},
   "outputs": [
    {
     "name": "stdout",
     "output_type": "stream",
     "text": [
      "CreditScoreBand\n",
      "Poor         3.666954e+06\n",
      "Fair         1.110823e+06\n",
      "Very Good    9.315211e+05\n",
      "Good         9.227064e+05\n",
      "Excellent    9.175751e+05\n",
      "Name: ECL, dtype: float64\n"
     ]
    }
   ],
   "source": [
    "df['CreditScoreBand'] = pd.cut(df['CreditScore'], bins=[300, 580, 670, 740, 800, 850], \n",
    "                                labels=['Poor', 'Fair', 'Good', 'Very Good', 'Excellent'])\n",
    "\n",
    "ecl_by_band = df.groupby('CreditScoreBand', observed=False)['ECL'].sum().sort_values(ascending=False)\n",
    "print(ecl_by_band)\n"
   ]
  },
  {
   "cell_type": "code",
   "execution_count": 10,
   "id": "71234a48",
   "metadata": {},
   "outputs": [
    {
     "name": "stdout",
     "output_type": "stream",
     "text": [
      "IFRS9_Stage\n",
      "Stage 1    7.192070e+03\n",
      "Stage 2    3.757725e+06\n",
      "Stage 3    3.809425e+06\n",
      "Name: ECL, dtype: float64\n"
     ]
    }
   ],
   "source": [
    "# Assign simplified staging based on PD thresholds\n",
    "def assign_stage(pd):\n",
    "    if pd < 0.02:\n",
    "        return 'Stage 1'\n",
    "    elif pd < 0.4:\n",
    "        return 'Stage 2'\n",
    "    else:\n",
    "        return 'Stage 3'\n",
    "\n",
    "df['IFRS9_Stage'] = df['PD'].apply(assign_stage)\n",
    "\n",
    "ecl_by_stage = df.groupby('IFRS9_Stage')['ECL'].sum()\n",
    "print(ecl_by_stage)\n"
   ]
  },
  {
   "cell_type": "code",
   "execution_count": 11,
   "id": "5ca60b50",
   "metadata": {},
   "outputs": [],
   "source": [
    "df.to_csv('../data/ecl_results.csv', index=False)\n"
   ]
  },
  {
   "cell_type": "code",
   "execution_count": null,
   "id": "a1410915-7f2f-47ec-8b92-ad7bca668c4d",
   "metadata": {},
   "outputs": [],
   "source": []
  }
 ],
 "metadata": {
  "kernelspec": {
   "display_name": "Python 3 (ipykernel)",
   "language": "python",
   "name": "python3"
  },
  "language_info": {
   "codemirror_mode": {
    "name": "ipython",
    "version": 3
   },
   "file_extension": ".py",
   "mimetype": "text/x-python",
   "name": "python",
   "nbconvert_exporter": "python",
   "pygments_lexer": "ipython3",
   "version": "3.13.3"
  }
 },
 "nbformat": 4,
 "nbformat_minor": 5
}
