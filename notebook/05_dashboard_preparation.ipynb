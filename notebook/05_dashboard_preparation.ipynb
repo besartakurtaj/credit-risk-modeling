{
 "cells": [
  {
   "cell_type": "code",
   "execution_count": 1,
   "id": "f69f02fc",
   "metadata": {},
   "outputs": [],
   "source": [
    "import pandas as pd\n",
    "\n",
    "df = pd.read_csv('../data/ecl_results.csv', parse_dates=['OriginationDate', 'DefaultDate'])\n"
   ]
  },
  {
   "cell_type": "code",
   "execution_count": 2,
   "id": "3feab1b6",
   "metadata": {},
   "outputs": [],
   "source": [
    "df['CreditScoreBand'] = pd.cut(df['CreditScore'], bins=[300, 580, 670, 740, 800, 850], \n",
    "                                labels=['Poor', 'Fair', 'Good', 'Very Good', 'Excellent'])\n",
    "\n",
    "df['LoanAgeMonths'] = ((pd.Timestamp.now() - df['OriginationDate']) / pd.Timedelta(days=30)).astype(int)\n",
    "\n",
    "# Round ECL-related values\n",
    "df['ECL'] = df['ECL'].round(2)\n",
    "df['PD'] = df['PD'].round(3)\n",
    "df['LGD'] = df['LGD'].round(3)\n",
    "df['EAD'] = df['EAD'].round(2)\n"
   ]
  },
  {
   "cell_type": "code",
   "execution_count": 3,
   "id": "1d170df7",
   "metadata": {},
   "outputs": [],
   "source": [
    "df.to_csv('../data/final_dashboard_data.csv', index=False)\n"
   ]
  },
  {
   "cell_type": "code",
   "execution_count": null,
   "id": "739e4dad-2a25-4e54-bdea-083791005bef",
   "metadata": {},
   "outputs": [],
   "source": []
  }
 ],
 "metadata": {
  "kernelspec": {
   "display_name": "Python 3 (ipykernel)",
   "language": "python",
   "name": "python3"
  },
  "language_info": {
   "codemirror_mode": {
    "name": "ipython",
    "version": 3
   },
   "file_extension": ".py",
   "mimetype": "text/x-python",
   "name": "python",
   "nbconvert_exporter": "python",
   "pygments_lexer": "ipython3",
   "version": "3.13.3"
  }
 },
 "nbformat": 4,
 "nbformat_minor": 5
}
